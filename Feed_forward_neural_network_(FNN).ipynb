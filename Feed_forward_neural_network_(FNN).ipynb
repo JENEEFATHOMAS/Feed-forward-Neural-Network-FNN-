{
  "nbformat": 4,
  "nbformat_minor": 0,
  "metadata": {
    "colab": {
      "name": "Feed forward neural network (FNN).ipynb",
      "provenance": [],
      "authorship_tag": "ABX9TyNTdgnBvAAakonyONnuCB92",
      "include_colab_link": true
    },
    "kernelspec": {
      "name": "python3",
      "display_name": "Python 3"
    },
    "language_info": {
      "name": "python"
    }
  },
  "cells": [
    {
      "cell_type": "markdown",
      "metadata": {
        "id": "view-in-github",
        "colab_type": "text"
      },
      "source": [
        "<a href=\"https://colab.research.google.com/github/JENEEFATHOMAS/Feed-forward-Neural-Network-FNN-/blob/main/Feed_forward_neural_network_(FNN).ipynb\" target=\"_parent\"><img src=\"https://colab.research.google.com/assets/colab-badge.svg\" alt=\"Open In Colab\"/></a>"
      ]
    },
    {
      "cell_type": "markdown",
      "metadata": {
        "id": "pMUzm6iEE9Ww"
      },
      "source": [
        "**Import libraries**"
      ]
    },
    {
      "cell_type": "code",
      "metadata": {
        "id": "p6aQATZDRytr"
      },
      "source": [
        "import numpy as np                                      #importing necessaty libraries\n",
        "import pandas as pd\n",
        "import matplotlib.pyplot as plt\n",
        "import cv2\n",
        "import random\n",
        "\n",
        "import tensorflow as tf\n",
        "import keras\n",
        "from keras import backend as K\n",
        "from keras.models import Model\n",
        "from keras.utils import np_utils\n",
        "from keras.models import Sequential\n",
        "from keras.layers import Dense,Flatten\n",
        "from keras.preprocessing.image import ImageDataGenerator"
      ],
      "execution_count": null,
      "outputs": []
    },
    {
      "cell_type": "markdown",
      "metadata": {
        "id": "Q2QzaOXrFEOi"
      },
      "source": [
        "**Import dataset MNIST from keras**"
      ]
    },
    {
      "cell_type": "code",
      "metadata": {
        "id": "anRex5m8SqlG"
      },
      "source": [
        "from keras.datasets import mnist                      #dataset"
      ],
      "execution_count": null,
      "outputs": []
    },
    {
      "cell_type": "markdown",
      "metadata": {
        "id": "ayJlSrt1FLLD"
      },
      "source": [
        "**Splitting Test and train set**"
      ]
    },
    {
      "cell_type": "code",
      "metadata": {
        "id": "v6CXG1DjZ5eD"
      },
      "source": [
        "(train_data,train_label),(test_data,test_label)=mnist.load_data()"
      ],
      "execution_count": null,
      "outputs": []
    },
    {
      "cell_type": "markdown",
      "metadata": {
        "id": "EKPoglYuFbXb"
      },
      "source": [
        "**Plot**"
      ]
    },
    {
      "cell_type": "code",
      "metadata": {
        "id": "VajmP67MpiUN"
      },
      "source": [
        "def plot_images_sample(X, Y):                                        #to plot test and train pixels\n",
        "    # Draw plot for images sample \n",
        "    \n",
        "    plt.figure(figsize=(10,10))\n",
        "    rand_indicies = np.random.randint(len(X), size=25)\n",
        "    for i in range(25):\n",
        "        plt.subplot(5,5,i+1)\n",
        "        plt.xticks([])\n",
        "        plt.yticks([])\n",
        "        plt.grid(False)\n",
        "        index = rand_indicies[i]\n",
        "        plt.imshow(np.squeeze(X[index]), cmap=plt.cm.binary)\n",
        "        plt.xlabel(Y[index])\n",
        "    plt.show()"
      ],
      "execution_count": null,
      "outputs": []
    },
    {
      "cell_type": "markdown",
      "metadata": {
        "id": "K7ITXLp_Fgk1"
      },
      "source": [
        "***PLotting the training set***"
      ]
    },
    {
      "cell_type": "code",
      "metadata": {
        "colab": {
          "base_uri": "https://localhost:8080/",
          "height": 623
        },
        "id": "l-S_TP4Fpj7y",
        "outputId": "fe00eb7f-8dfb-4849-8a53-5aa4674c5025"
      },
      "source": [
        "plot_images_sample(train_data,train_label)\n",
        "print(train_data.shape)\n",
        "print(train_label.shape)\n"
      ],
      "execution_count": null,
      "outputs": [
        {
          "output_type": "display_data",
          "data": {
            "image/png": "[encoded data removed]",
            "text/plain": [
              "<Figure size 720x720 with 25 Axes>"
            ]
          },
          "metadata": {
            "tags": []
          }
        },
        {
          "output_type": "stream",
          "text": [
            "(60000, 28, 28)\n",
            "(60000,)\n"
          ],
          "name": "stdout"
        }
      ]
    },
    {
      "cell_type": "markdown",
      "metadata": {
        "id": "v33XJ1tpFv0J"
      },
      "source": [
        "**Plotting the test set**"
      ]
    },
    {
      "cell_type": "code",
      "metadata": {
        "colab": {
          "base_uri": "https://localhost:8080/",
          "height": 623
        },
        "id": "gF3xEVZ1qIYE",
        "outputId": "7eaca4a3-a2a1-4efd-9b23-27f047cbfc00"
      },
      "source": [
        "plot_images_sample(test_data,test_label)\n",
        "print(test_data.shape)\n",
        "print(test_label.shape)"
      ],
      "execution_count": null,
      "outputs": [
        {
          "output_type": "display_data",
          "data": {
            "image/png": "[encoded data removed]",
            "text/plain": [
              "<Figure size 720x720 with 25 Axes>"
            ]
          },
          "metadata": {
            "tags": []
          }
        },
        {
          "output_type": "stream",
          "text": [
            "(10000, 28, 28)\n",
            "(10000,)\n"
          ],
          "name": "stdout"
        }
      ]
    },
    {
      "cell_type": "markdown",
      "metadata": {
        "id": "zFBNn-89F03q"
      },
      "source": [
        "**Building  Model**"
      ]
    },
    {
      "cell_type": "code",
      "metadata": {
        "id": "J58-IbLlGD63"
      },
      "source": [
        "model=Sequential()                                  # sequential model allow us to add two or more layers\n",
        "\n",
        "model.add(Flatten(input_shape=(28,28)))\n",
        "\n",
        "model.add(Dense(512,activation='relu'))\n",
        "model.add(Dense(256,activation='relu'))\n",
        "model.add(Dense(128,activation='relu'))\n",
        "model.add(Dense(64,activation='relu'))\n",
        "model.add(Dense(10,activation='softmax'))"
      ],
      "execution_count": null,
      "outputs": []
    },
    {
      "cell_type": "markdown",
      "metadata": {
        "id": "ygX0oQsGGJHB"
      },
      "source": [
        "**Compiling Model**"
      ]
    },
    {
      "cell_type": "code",
      "metadata": {
        "colab": {
          "base_uri": "https://localhost:8080/"
        },
        "id": "JzagwGNi_Gjn",
        "outputId": "7e9a470f-868b-40e4-8e77-7b33ef80fb89"
      },
      "source": [
        "model.compile(loss='categorical_crossentropy',optimizer='adam',metrics=['accuracy'])     #adam optimizer control the learning rate , \n",
        "model.summary()                                                                           #castegorical_crossentropy  to evaluate loss function."
      ],
      "execution_count": null,
      "outputs": [
        {
          "output_type": "stream",
          "text": [
            "Model: \"sequential_3\"\n",
            "_________________________________________________________________\n",
            "Layer (type)                 Output Shape              Param #   \n",
            "=================================================================\n",
            "flatten_3 (Flatten)          (None, 784)               0         \n",
            "_________________________________________________________________\n",
            "dense_15 (Dense)             (None, 512)               401920    \n",
            "_________________________________________________________________\n",
            "dense_16 (Dense)             (None, 256)               131328    \n",
            "_________________________________________________________________\n",
            "dense_17 (Dense)             (None, 128)               32896     \n",
            "_________________________________________________________________\n",
            "dense_18 (Dense)             (None, 64)                8256      \n",
            "_________________________________________________________________\n",
            "dense_19 (Dense)             (None, 10)                650       \n",
            "=================================================================\n",
            "Total params: 575,050\n",
            "Trainable params: 575,050\n",
            "Non-trainable params: 0\n",
            "_________________________________________________________________\n"
          ],
          "name": "stdout"
        }
      ]
    },
    {
      "cell_type": "code",
      "metadata": {
        "id": "S7FcPwfsH5FV"
      },
      "source": [
        "new_train_data=train_data/255\n",
        "new_test_data=test_data/255"
      ],
      "execution_count": null,
      "outputs": []
    },
    {
      "cell_type": "markdown",
      "metadata": {
        "id": "ihMa5SHBGSdQ"
      },
      "source": [
        "One hot encode label values"
      ]
    },
    {
      "cell_type": "code",
      "metadata": {
        "colab": {
          "base_uri": "https://localhost:8080/"
        },
        "id": "ms4eMmDv_RTq",
        "outputId": "858d7fca-9edc-4b65-9422-fa127d993825"
      },
      "source": [
        "new_train_label=np_utils.to_categorical(train_label)                   # changing train label\n",
        "new_test_label=np_utils.to_categorical(test_label)\n",
        "print(train_target[:10])\n",
        "print(new_train_target[:10])"
      ],
      "execution_count": null,
      "outputs": [
        {
          "output_type": "stream",
          "text": [
            "[5 0 4 1 9 2 1 3 1 4]\n",
            "[[0. 0. 0. 0. 0. 1. 0. 0. 0. 0.]\n",
            " [1. 0. 0. 0. 0. 0. 0. 0. 0. 0.]\n",
            " [0. 0. 0. 0. 1. 0. 0. 0. 0. 0.]\n",
            " [0. 1. 0. 0. 0. 0. 0. 0. 0. 0.]\n",
            " [0. 0. 0. 0. 0. 0. 0. 0. 0. 1.]\n",
            " [0. 0. 1. 0. 0. 0. 0. 0. 0. 0.]\n",
            " [0. 1. 0. 0. 0. 0. 0. 0. 0. 0.]\n",
            " [0. 0. 0. 1. 0. 0. 0. 0. 0. 0.]\n",
            " [0. 1. 0. 0. 0. 0. 0. 0. 0. 0.]\n",
            " [0. 0. 0. 0. 1. 0. 0. 0. 0. 0.]]\n"
          ],
          "name": "stdout"
        }
      ]
    },
    {
      "cell_type": "markdown",
      "metadata": {
        "id": "8LqxNGvPGpyR"
      },
      "source": [
        "**FITTING MODEL**"
      ]
    },
    {
      "cell_type": "code",
      "metadata": {
        "colab": {
          "base_uri": "https://localhost:8080/"
        },
        "id": "vbvQRD6__d6C",
        "outputId": "2f7727e1-20f7-45dd-d3b8-790d1198e1c9"
      },
      "source": [
        "model.fit(new_train_data,new_train_label,epochs=20)                        #fitting our model"
      ],
      "execution_count": null,
      "outputs": [
        {
          "output_type": "stream",
          "text": [
            "Epoch 1/20\n",
            "1875/1875 [==============================] - 15s 8ms/step - loss: 0.3716 - accuracy: 0.8866\n",
            "Epoch 2/20\n",
            "1875/1875 [==============================] - 12s 7ms/step - loss: 0.0935 - accuracy: 0.9700\n",
            "Epoch 3/20\n",
            "1875/1875 [==============================] - 13s 7ms/step - loss: 0.0659 - accuracy: 0.9801\n",
            "Epoch 4/20\n",
            "1875/1875 [==============================] - 12s 6ms/step - loss: 0.0507 - accuracy: 0.9847\n",
            "Epoch 5/20\n",
            "1875/1875 [==============================] - 12s 6ms/step - loss: 0.0407 - accuracy: 0.9883\n",
            "Epoch 6/20\n",
            "1875/1875 [==============================] - 13s 7ms/step - loss: 0.0315 - accuracy: 0.9905\n",
            "Epoch 7/20\n",
            "1875/1875 [==============================] - 12s 7ms/step - loss: 0.0272 - accuracy: 0.9923\n",
            "Epoch 8/20\n",
            "1875/1875 [==============================] - 11s 6ms/step - loss: 0.0259 - accuracy: 0.9916\n",
            "Epoch 9/20\n",
            "1875/1875 [==============================] - 12s 6ms/step - loss: 0.0234 - accuracy: 0.9930\n",
            "Epoch 10/20\n",
            "1875/1875 [==============================] - 11s 6ms/step - loss: 0.0184 - accuracy: 0.9943\n",
            "Epoch 11/20\n",
            "1875/1875 [==============================] - 11s 6ms/step - loss: 0.0201 - accuracy: 0.9942\n",
            "Epoch 12/20\n",
            "1875/1875 [==============================] - 12s 6ms/step - loss: 0.0158 - accuracy: 0.9956\n",
            "Epoch 13/20\n",
            "1875/1875 [==============================] - 11s 6ms/step - loss: 0.0145 - accuracy: 0.9958\n",
            "Epoch 14/20\n",
            "1875/1875 [==============================] - 11s 6ms/step - loss: 0.0158 - accuracy: 0.9953\n",
            "Epoch 15/20\n",
            "1875/1875 [==============================] - 11s 6ms/step - loss: 0.0140 - accuracy: 0.9963\n",
            "Epoch 16/20\n",
            "1875/1875 [==============================] - 10s 6ms/step - loss: 0.0155 - accuracy: 0.9961\n",
            "Epoch 17/20\n",
            "1875/1875 [==============================] - 10s 6ms/step - loss: 0.0142 - accuracy: 0.9963\n",
            "Epoch 18/20\n",
            "1875/1875 [==============================] - 11s 6ms/step - loss: 0.0125 - accuracy: 0.9965\n",
            "Epoch 19/20\n",
            "1875/1875 [==============================] - 12s 6ms/step - loss: 0.0133 - accuracy: 0.9966\n",
            "Epoch 20/20\n",
            "1875/1875 [==============================] - 11s 6ms/step - loss: 0.0111 - accuracy: 0.9969\n"
          ],
          "name": "stdout"
        },
        {
          "output_type": "execute_result",
          "data": {
            "text/plain": [
              "<keras.callbacks.History at 0x7fef1db4b750>"
            ]
          },
          "metadata": {
            "tags": []
          },
          "execution_count": 78
        }
      ]
    },
    {
      "cell_type": "markdown",
      "metadata": {
        "id": "Qq4Ku3txG0iH"
      },
      "source": [
        "**PLOTTING ACCURACY**"
      ]
    },
    {
      "cell_type": "code",
      "metadata": {
        "colab": {
          "base_uri": "https://localhost:8080/",
          "height": 279
        },
        "id": "Na-8eiaPA5Sa",
        "outputId": "8edccf2a-9b12-4a41-c813-fe9a7bb3e6bc"
      },
      "source": [
        "plt.plot(model.history.history['accuracy'])                           #plotting the accuracy\n",
        "plt.xlabel('# epochs')\n",
        "plt.ylabel('accuracy')\n",
        "plt.show()"
      ],
      "execution_count": null,
      "outputs": [
        {
          "output_type": "display_data",
          "data": {
            "image/png": "[encoded data removed]",
            "text/plain": [
              "<Figure size 432x288 with 1 Axes>"
            ]
          },
          "metadata": {
            "tags": [],
            "needs_background": "light"
          }
        }
      ]
    },
    {
      "cell_type": "markdown",
      "metadata": {
        "id": "bjJ6V2GIG40j"
      },
      "source": [
        "**EVALUATE MODEL**"
      ]
    },
    {
      "cell_type": "code",
      "metadata": {
        "colab": {
          "base_uri": "https://localhost:8080/"
        },
        "id": "bueZQG6vA91w",
        "outputId": "b1788c55-0059-44cc-9723-ae7f5cf7217f"
      },
      "source": [
        "model.evaluate(new_test_data,new_test_label)"
      ],
      "execution_count": null,
      "outputs": [
        {
          "output_type": "stream",
          "text": [
            "313/313 [==============================] - 2s 4ms/step - loss: 0.1227 - accuracy: 0.9808\n"
          ],
          "name": "stdout"
        },
        {
          "output_type": "execute_result",
          "data": {
            "text/plain": [
              "[0.12272338569164276, 0.9807999730110168]"
            ]
          },
          "metadata": {
            "tags": []
          },
          "execution_count": 81
        }
      ]
    },
    {
      "cell_type": "markdown",
      "metadata": {
        "id": "qzYIZJ4kG-ey"
      },
      "source": [
        "**PREDICTING MODEL**"
      ]
    },
    {
      "cell_type": "code",
      "metadata": {
        "colab": {
          "base_uri": "https://localhost:8080/"
        },
        "id": "DtPXcoIXCGu_",
        "outputId": "93ad6dd9-3f3e-4574-eaf1-ffb71f2dfee5"
      },
      "source": [
        "prediction = model.predict(new_test_data[:10])\n",
        "print(prediction)"
      ],
      "execution_count": null,
      "outputs": [
        {
          "output_type": "stream",
          "text": [
            "[[3.69655222e-21 2.89641949e-10 2.18677298e-11 1.49242063e-09\n",
            "  1.00421245e-08 3.26939206e-16 2.86685274e-23 1.00000000e+00\n",
            "  3.28547377e-14 3.16487531e-10]\n",
            " [2.02293244e-22 1.08074622e-23 1.00000000e+00 2.12241717e-23\n",
            "  1.26106522e-22 1.10884763e-22 2.90506815e-28 2.66975325e-13\n",
            "  3.89793686e-29 4.15597718e-33]\n",
            " [0.00000000e+00 1.00000000e+00 1.88463111e-22 3.40784657e-25\n",
            "  7.21793844e-24 1.01955291e-21 5.89723748e-20 4.54599129e-19\n",
            "  2.58425947e-17 2.87869158e-28]\n",
            " [1.00000000e+00 7.48515090e-21 2.15418627e-17 5.01489652e-20\n",
            "  9.21319557e-18 1.45693506e-23 7.56047050e-16 3.28112591e-15\n",
            "  3.34071340e-15 2.12734696e-14]\n",
            " [1.86427609e-12 4.84681684e-10 1.04507223e-12 1.72483031e-21\n",
            "  1.00000000e+00 7.87238933e-16 9.27043205e-14 7.67179167e-11\n",
            "  7.78804105e-15 5.04272135e-09]\n",
            " [0.00000000e+00 1.00000000e+00 1.42274476e-24 5.42140459e-27\n",
            "  1.65749734e-25 1.43438010e-23 2.33302313e-21 1.05002113e-20\n",
            "  1.34966521e-18 1.13101506e-30]\n",
            " [4.86520024e-09 4.82912128e-07 2.53385724e-06 3.46684465e-12\n",
            "  9.99831319e-01 2.96008729e-09 2.56570298e-09 1.20249439e-07\n",
            "  4.90764825e-11 1.65550882e-04]\n",
            " [1.17218960e-11 3.25690230e-09 3.26032631e-13 2.23820712e-06\n",
            "  1.18558985e-09 2.99512877e-08 1.43609209e-23 1.03779375e-05\n",
            "  4.09627710e-08 9.99987364e-01]\n",
            " [9.28812005e-05 8.59552596e-10 8.90057472e-10 3.63035952e-07\n",
            "  6.51308881e-07 9.86355245e-01 1.15223713e-02 5.13650411e-09\n",
            "  1.97661342e-03 5.19047462e-05]\n",
            " [2.83576873e-14 2.30964455e-14 4.87799690e-17 6.57584620e-12\n",
            "  1.19130209e-11 1.96814326e-13 6.78570842e-28 1.51791625e-07\n",
            "  1.23222595e-11 9.99999881e-01]]\n"
          ],
          "name": "stdout"
        }
      ]
    },
    {
      "cell_type": "code",
      "metadata": {
        "colab": {
          "base_uri": "https://localhost:8080/"
        },
        "id": "2EOFYAKkCsLr",
        "outputId": "ab28ec03-a74f-4a32-ba7f-196288fcf2b0"
      },
      "source": [
        "p=np.argmax(prediction, axis=1)\n",
        "print(p)\n",
        "print(test_label[:10])"
      ],
      "execution_count": null,
      "outputs": [
        {
          "output_type": "stream",
          "text": [
            "[7 2 1 0 4 1 4 9 5 9]\n",
            "[7 2 1 0 4 1 4 9 5 9]\n"
          ],
          "name": "stdout"
        }
      ]
    },
    {
      "cell_type": "markdown",
      "metadata": {
        "id": "X3mqsiNEHDvQ"
      },
      "source": [
        "**PRINT ORIGINAL AND PREDICTED DIGITS**"
      ]
    },
    {
      "cell_type": "code",
      "metadata": {
        "colab": {
          "base_uri": "https://localhost:8080/",
          "height": 1000
        },
        "id": "a20tlLtfDCtg",
        "outputId": "81fe9d97-6985-480d-f66d-4bb3ef745cd5"
      },
      "source": [
        "for i in range(10):                                                          #comapring original and predicted result\n",
        "  plt.imshow(new_test_data[i], cmap='binary')\n",
        "  plt.title(\"Original: {}, Predicted: {}\".format(test_label[i], p[i]))\n",
        "  plt.axis(\"Off\")\n",
        "  plt.figure()"
      ],
      "execution_count": null,
      "outputs": [
        {
          "output_type": "display_data",
          "data": {
            "image/png": "[encoded data removed]",
            "text/plain": [
              "<Figure size 432x288 with 1 Axes>"
            ]
          },
          "metadata": {
            "tags": [],
            "needs_background": "light"
          }
        },
        {
          "output_type": "display_data",
          "data": {
            "image/png": "[encoded data removed]",
            "text/plain": [
              "<Figure size 432x288 with 1 Axes>"
            ]
          },
          "metadata": {
            "tags": [],
            "needs_background": "light"
          }
        },
        {
          "output_type": "display_data",
          "data": {
            "image/png": "[encoded data removed]",
            "text/plain": [
              "<Figure size 432x288 with 1 Axes>"
            ]
          },
          "metadata": {
            "tags": [],
            "needs_background": "light"
          }
        },
        {
          "output_type": "display_data",
          "data": {
            "image/png": "[encoded data removed]",
            "text/plain": [
              "<Figure size 432x288 with 1 Axes>"
            ]
          },
          "metadata": {
            "tags": [],
            "needs_background": "light"
          }
        },
        {
          "output_type": "display_data",
          "data": {
            "image/png": "[encoded data removed]",
            "text/plain": [
              "<Figure size 432x288 with 1 Axes>"
            ]
          },
          "metadata": {
            "tags": [],
            "needs_background": "light"
          }
        },
        {
          "output_type": "display_data",
          "data": {
            "image/png": "[encoded data removed]",
            "text/plain": [
              "<Figure size 432x288 with 1 Axes>"
            ]
          },
          "metadata": {
            "tags": [],
            "needs_background": "light"
          }
        },
        {
          "output_type": "display_data",
          "data": {
            "image/png": "[encoded data removed]",
            "text/plain": [
              "<Figure size 432x288 with 1 Axes>"
            ]
          },
          "metadata": {
            "tags": [],
            "needs_background": "light"
          }
        },
        {
          "output_type": "display_data",
          "data": {
            "image/png": "[encoded data removed]",
            "text/plain": [
              "<Figure size 432x288 with 1 Axes>"
            ]
          },
          "metadata": {
            "tags": [],
            "needs_background": "light"
          }
        },
        {
          "output_type": "display_data",
          "data": {
            "image/png": "[encoded data removed]",
            "text/plain": [
              "<Figure size 432x288 with 1 Axes>"
            ]
          },
          "metadata": {
            "tags": [],
            "needs_background": "light"
          }
        },
        {
          "output_type": "display_data",
          "data": {
            "image/png": "[encoded data removed]",
            "text/plain": [
              "<Figure size 432x288 with 1 Axes>"
            ]
          },
          "metadata": {
            "tags": [],
            "needs_background": "light"
          }
        },
        {
          "output_type": "display_data",
          "data": {
            "text/plain": [
              "<Figure size 432x288 with 0 Axes>"
            ]
          },
          "metadata": {
            "tags": []
          }
        }
      ]
    }
  ]
}